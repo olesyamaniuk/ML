{
 "cells": [
  {
   "cell_type": "markdown",
   "metadata": {},
   "source": [
    "В цій практичній роботі ми спробуємо реалізувати нейронну мережу з двох шарів (прихований і вихідний). Запропонований підхід стане заготовкою для реалізації наступних оптимізацій: MBGD, ADAM та регуляризації. \n",
    "\n",
    "Сьогодні ж вам пропонується додати до цього класу підтримку довільної кількості шарів та нейронів в них (наприклад, передавати їх параметром в конструктор, як це робиться в MLPClassifier за допомогою hidden_layer_sizes). Також потрібно передбачити можливість ранньої зупинки ітераційного процесу, якщо значення штрафної функції не покращуватиметься протягом певної кількості ітерацій. Наприклад, якщо протягом $k$ ітерацій штрафна функція за модулем не стане меншою, ніж на поточному кроці."
   ]
  },
  {
   "cell_type": "code",
   "execution_count": 1,
   "metadata": {},
   "outputs": [],
   "source": [
    "import numpy as np\n",
    "import pandas as pd\n",
    "from sklearn.model_selection import train_test_split\n",
    "from mpl_toolkits.mplot3d import Axes3D\n",
    "import matplotlib.pyplot as plt\n",
    "\n",
    "from matplotlib.colors import ListedColormap\n",
    "cm_bright = ListedColormap(['#FF0000', '#0000FF'])\n",
    "%matplotlib inline\n",
    "from sklearn.metrics import accuracy_score\n",
    "#import torch.nn as nn\n",
    "\n",
    "import sklearn.linear_model"
   ]
  },
  {
   "cell_type": "code",
   "execution_count": 2,
   "metadata": {},
   "outputs": [],
   "source": [
    "def plot_surface(cls, x_1, x_2, ax=None, threshold=0.5, contourf=False):\n",
    "    xx1, xx2 = np.meshgrid(np.linspace(x_1.min(), x_1.max(), 100), \n",
    "                           np.linspace(x_2.min(), x_2.max(), 100))\n",
    "\n",
    "    X_pred = np.c_[xx1.ravel(), xx2.ravel()]\n",
    "    pred = cls.predict_proba(X_pred)[:, 0]\n",
    "    Z = pred.reshape((100, 100))\n",
    "    if ax is None:\n",
    "        ax = plt.gca()\n",
    "    ax.contour(xx1, xx2, Z, levels=[threshold], colors='black')\n",
    "    ax.set_xlim((x_1.min(), x_1.max()))\n",
    "    ax.set_ylim((x_2.min(), x_2.max()))"
   ]
  },
  {
   "cell_type": "code",
   "execution_count": 3,
   "metadata": {},
   "outputs": [],
   "source": [
    "def plot_data(X, y):\n",
    "    ax = plt.gca()\n",
    "    ax.scatter(X[:,0], X[:,1], c=(y == 1), cmap=cm_bright)"
   ]
  },
  {
   "cell_type": "code",
   "execution_count": 85,
   "metadata": {},
   "outputs": [],
   "source": [
    "class NeuralNet:\n",
    "   \n",
    "    def __init__(self, normalize = True, learning_rate = 0.01, num_iter = 30000, hidden_layer_sizes =(4,4), tol=1e-6, notimp_iters=200 ):\n",
    "        self.learning_rate = learning_rate\n",
    "        self.num_iter = num_iter\n",
    "        self.normalize = normalize\n",
    "        self.hidden_layer_sizes =hidden_layer_sizes;\n",
    "        #self.relu = nn.ReLU();\n",
    "        self.tol =tol;\n",
    "        self.num_layers =len(hidden_layer_sizes);\n",
    "        self.notimp_iters = notimp_iters;\n",
    "       # self.parameters=None\n",
    "        \n",
    "        \n",
    "        \n",
    "    \n",
    "    def __normalize(self, X, mean = None, std = None):\n",
    "    \n",
    "        n = X.shape[0]\n",
    "        m = mean\n",
    "        if m is None:\n",
    "            m = np.mean(X, axis=1).reshape((n, 1))\n",
    "        s = std\n",
    "        if s is None:\n",
    "            s = np.std(X, axis=1).reshape((n, 1))\n",
    "        X_new = (X - m) / s**2\n",
    "        return X_new, m, s\n",
    "\n",
    "    def __sigmoid(self, Z):\n",
    "        \n",
    "        return 1 / (1 + np.exp(-Z))\n",
    "    \n",
    "    def __initialize_parameters(self, n_x, n_arr):\n",
    "        W_arr =[];\n",
    "        b_arr =[];\n",
    "       \n",
    "        ######\n",
    "        W1 = np.random.randn(n_arr[0], n_x)*0.01;\n",
    "        b1 = np.zeros((n_arr[0], 1));\n",
    "        W_arr.append(W1);\n",
    "        b_arr.append(b1);\n",
    "        \n",
    "     \n",
    "        for n_l in range(1,len(n_arr)):\n",
    "            W_temp =np.random.randn(n_arr[n_l], n_arr[n_l-1]) * 0.01;\n",
    "            b_temp = np.zeros((n_arr[n_l], 1));\n",
    "            W_arr.append(W_temp);\n",
    "            b_arr.append(b_temp);\n",
    "        \n",
    "        \n",
    "        W2 =np.random.randn(1, n_arr[len(n_arr)-1]) * 0.01\n",
    "        b2 = 0;\n",
    "        \n",
    "        W_arr.append(W2);\n",
    "        b_arr.append(b2);\n",
    "        \n",
    "        \n",
    "        self.parameters = {\"W_arr\" : W_arr, \"b_arr\" : b_arr}\n",
    "       \n",
    "    def __forward_propagation(self, X):\n",
    "        \n",
    "        W_arr =self.parameters[\"W_arr\"]\n",
    "        b_arr = self.parameters[\"b_arr\"]\n",
    "        \n",
    "        W1 = W_arr[0];\n",
    "        b1 = b_arr[0];\n",
    "        \n",
    "        W2 =W_arr[len(W_arr)-1];\n",
    "        b2 =b_arr[len(b_arr)-1];\n",
    "        \n",
    "        Z_arr =[];\n",
    "        A_arr =[];\n",
    "        \n",
    "        Z1 =np.dot(W1,X)+b1;\n",
    "        A1 = self.__sigmoid(Z1);\n",
    "        \n",
    "        \n",
    "        Z_arr.append(Z1);\n",
    "        A_arr.append(A1);\n",
    "        \n",
    "       \n",
    "        for l in range(1,self.num_layers+1):\n",
    "            Z_temp = np.dot(W_arr[l],A_arr[l-1])+b_arr[l];\n",
    "            A_temp = self.__sigmoid(Z_temp);\n",
    "            Z_arr.append(Z_temp);\n",
    "            A_arr.append(A_temp);\n",
    "\n",
    "        cache =(W_arr,b_arr,Z_arr,A_arr);\n",
    "        \n",
    "        return A_arr[-1], cache\n",
    "    \n",
    "    def compute_cost(self, A, Y):\n",
    "        m = Y.shape[1]\n",
    "        res = Y * np.log(A) + (1 - Y) * np.log(1 - A)\n",
    "        J = -(1 / m) * np.sum(res)\n",
    "        return J\n",
    "        \n",
    " \n",
    "    def __backward_propagation(self, X, Y, cache):\n",
    "        m = X.shape[1]\n",
    "        n = X.shape[0]\n",
    "        (W_arr,b_arr,Z_arr,A_arr) = cache\n",
    "\n",
    "        \n",
    "        dZ_arr=[];\n",
    "        dW_arr =[];\n",
    "        dA_arr=[];\n",
    "        db_arr =[];\n",
    "        \n",
    "        dZ2 = A_arr[-1] -Y;\n",
    "        dW2 = 1. / m * np.dot(dZ2, A_arr[-2].T);\n",
    "        db2 =1. / m * np.sum(dZ2, axis = 1, keepdims = True);\n",
    "        dA2 =np.dot(W_arr[-1].T,dZ2);\n",
    "        dZ_arr.insert(0,dZ2); \n",
    "        dW_arr.insert(0,dW2);\n",
    "        db_arr.insert(0,db2);\n",
    "        dA_arr.insert(0,dA2);\n",
    "             \n",
    "   \n",
    "        for l_inv in range(len(W_arr)-2,0,-1):\n",
    "\n",
    "            dZ_temp =np.multiply(dA_arr[0], np.multiply(A_arr[l_inv], 1 - A_arr[l_inv]));\n",
    "            dW_temp =1. / m * np.dot(dZ_temp, A_arr[l_inv-1].T);\n",
    "            db_temp =1. / m * np.sum(dZ_temp, axis = 1, keepdims = True);\n",
    "            dA_temp =np.dot(W_arr[l_inv].T,dZ_temp);\n",
    "            \n",
    "            dZ_arr.insert(0,dZ_temp);\n",
    "            dW_arr.insert(0,dW_temp);\n",
    "            dA_arr.insert(0,dA_temp);\n",
    "            db_arr.insert(0,db_temp);\n",
    "        \n",
    "       \n",
    "        dA1 =dA_arr[0];\n",
    "        dZ1 = np.multiply(dA1, np.multiply(A_arr[0], 1 - A_arr[0]));\n",
    "        dW1 = 1. / m * np.dot(dZ1, X.T)\n",
    "        db1 =1. / m * np.sum(dZ1, axis = 1, keepdims = True)\n",
    "        \n",
    "        dZ_arr.insert(0,dZ1); \n",
    "        dW_arr.insert(0,dW1);\n",
    "        db_arr.insert(0,db1);\n",
    "       \n",
    "        grads ={\"dZ_arr\":dZ_arr,\"dW_arr\":dW_arr,\"db_arr\":db_arr}\n",
    "        return grads\n",
    "  \n",
    "    \n",
    "   \n",
    "        \n",
    "    def __update_parameters(self, grads):\n",
    "            \n",
    "        W_arr =self.parameters[\"W_arr\"];\n",
    "        b_arr =self.parameters[\"b_arr\"];\n",
    "        dW_arr =grads[\"dW_arr\"];\n",
    "        db_arr =grads[\"db_arr\"];\n",
    "        \n",
    "        Wnew =W_arr.copy();\n",
    "        bnew = b_arr.copy();\n",
    "        for l in range(0,len(W_arr)):\n",
    "            Wnew[l]-=self.learning_rate * dW_arr[l];\n",
    "            bnew[l]-=self.learning_rate * db_arr[l];\n",
    "        self.parameters[\"W_arr\"] = Wnew;\n",
    "        self.parameters[\"b_arr\"] = bnew;\n",
    "        \n",
    "    def fit(self, X_vert, Y_vert, print_cost = True):\n",
    "        \n",
    "        \n",
    "        X, Y = X_vert.T, Y_vert.T\n",
    "        \n",
    "        if self.normalize:\n",
    "            X, self.__mean, self.__std = self.__normalize(X)\n",
    "        \n",
    "        costs = []\n",
    "        improve_costs =[]\n",
    "        \n",
    "        m = X.shape[1]\n",
    "        n_x = X.shape[0]\n",
    "        \n",
    "        self.__initialize_parameters(n_x,self.hidden_layer_sizes)\n",
    "\n",
    "        for i in range(self.num_iter):\n",
    "            A, cache = self.__forward_propagation(X)\n",
    "\n",
    "            cost = self.compute_cost(A, Y)\n",
    "\n",
    "            grads = self.__backward_propagation(X, Y, cache)\n",
    "\n",
    "            self.__update_parameters(grads)\n",
    "\n",
    "            if print_cost and i % 1000 == 0:\n",
    "                print(\"{}-th iteration: {}\".format(i, cost))\n",
    "\n",
    "            if i % 1000 == 0:\n",
    "                costs.append(cost)\n",
    "                \n",
    "            if i%self.notimp_iters ==0:\n",
    "                improve_costs.append(cost);\n",
    "                if len(improve_costs) >2:\n",
    "                    if abs(improve_costs[len(improve_costs)-1] - improve_costs[len(improve_costs)-2]) < self.tol:\n",
    "                        return;\n",
    "\n",
    "        if print_cost:\n",
    "            plt.plot(costs)\n",
    "            plt.ylabel(\"Cost\")\n",
    "            plt.xlabel(\"Iteration, *1000\")\n",
    "            plt.show()\n",
    "    \n",
    "    def predict_proba(self, X_vert):\n",
    "        X = X_vert.T\n",
    "        if self.normalize:\n",
    "            X, _, _ = self.__normalize(X, self.__mean, self.__std)\n",
    "        \n",
    "        probs = self.__forward_propagation(X)[0]\n",
    "        \n",
    "        return np.column_stack((probs.T, 1 - probs.T))\n",
    "    \n",
    "    def predict(self, X_vert):\n",
    "        positive_probs = self.predict_proba(X_vert)[:, 0]\n",
    "        return (positive_probs >= 0.5).astype(int)   \n"
   ]
  },
  {
   "cell_type": "markdown",
   "metadata": {},
   "source": [
    "Спочатку спробуйте цей клас на одній задачі, а потім на іншій."
   ]
  },
  {
   "cell_type": "code",
   "execution_count": null,
   "metadata": {},
   "outputs": [],
   "source": []
  },
  {
   "cell_type": "code",
   "execution_count": 86,
   "metadata": {},
   "outputs": [
    {
     "name": "stdout",
     "output_type": "stream",
     "text": [
      "Training set: X=(118, 2), y=(118,)\n"
     ]
    }
   ],
   "source": [
    "data_columns = [\"test1\", \"test2\"]\n",
    "target_column = \"passed\"\n",
    "df = pd.read_csv(\"tests.csv\")\n",
    "X, Y = df[data_columns].values, df[target_column]\n",
    "print('Training set: X={}, y={}'.format(X.shape, Y.shape))"
   ]
  },
  {
   "cell_type": "code",
   "execution_count": 87,
   "metadata": {},
   "outputs": [
    {
     "data": {
      "image/png": "[encoded data removed]",
      "text/plain": [
       "<Figure size 432x288 with 1 Axes>"
      ]
     },
     "metadata": {
      "needs_background": "light"
     },
     "output_type": "display_data"
    }
   ],
   "source": [
    "plot_data(X, Y)"
   ]
  },
  {
   "cell_type": "code",
   "execution_count": 88,
   "metadata": {},
   "outputs": [],
   "source": [
    "cls = NeuralNet(normalize = True, learning_rate = 0.5, num_iter = 4000)"
   ]
  },
  {
   "cell_type": "code",
   "execution_count": 89,
   "metadata": {},
   "outputs": [
    {
     "name": "stdout",
     "output_type": "stream",
     "text": [
      "0-th iteration: 0.6931985328093563\n"
     ]
    }
   ],
   "source": [
    "cls.fit(X, Y.values.reshape((df.shape[0], 1)))"
   ]
  },
  {
   "cell_type": "code",
   "execution_count": 90,
   "metadata": {},
   "outputs": [
    {
     "name": "stdout",
     "output_type": "stream",
     "text": [
      "{'W_arr': [array([[ 0.01223743,  0.01024433],\n",
      "       [-0.00120811, -0.01690645],\n",
      "       [-0.03001014,  0.00238968],\n",
      "       [-0.00389101, -0.01374607]]), array([[ 0.01461619, -0.00781578, -0.00443986, -0.01743256],\n",
      "       [-0.00104105, -0.00589392, -0.01239372,  0.0025242 ],\n",
      "       [ 0.01175995, -0.00810313,  0.00454764, -0.01045287],\n",
      "       [-0.01385016, -0.00095544,  0.02374451, -0.00187903]]), array([[-0.00420909,  0.00032751, -0.01696409, -0.00732832]])], 'b_arr': [array([[ 2.86469620e-09],\n",
      "       [ 2.55662480e-08],\n",
      "       [-2.93005545e-07],\n",
      "       [-3.70857327e-08]]), array([[-8.66996371e-06],\n",
      "       [-3.11836475e-05],\n",
      "       [ 5.59552497e-05],\n",
      "       [ 1.22700644e-05]]), array([[-0.01981917]])]}\n"
     ]
    }
   ],
   "source": [
    "print(cls.parameters)"
   ]
  },
  {
   "cell_type": "code",
   "execution_count": 91,
   "metadata": {},
   "outputs": [
    {
     "data": {
      "text/plain": [
       "array([[0.4915253 , 0.5084747 ],\n",
       "       [0.49152532, 0.50847468],\n",
       "       [0.49152526, 0.50847474],\n",
       "       [0.49152532, 0.50847468],\n",
       "       [0.4915253 , 0.5084747 ],\n",
       "       [0.49152543, 0.50847457],\n",
       "       [0.49152555, 0.50847445],\n",
       "       [0.49152569, 0.50847431],\n",
       "       [0.49152588, 0.50847412],\n",
       "       [0.49152597, 0.50847403],\n",
       "       [0.49152606, 0.50847394],\n",
       "       [0.49152607, 0.50847393],\n",
       "       [0.49152596, 0.50847404],\n",
       "       [0.49152595, 0.50847405],\n",
       "       [0.49152556, 0.50847444],\n",
       "       [0.49152545, 0.50847455],\n",
       "       [0.49152544, 0.50847456],\n",
       "       [0.49152524, 0.50847476],\n",
       "       [0.49152527, 0.50847473],\n",
       "       [0.49152523, 0.50847477],\n",
       "       [0.49152521, 0.50847479],\n",
       "       [0.49152534, 0.50847466],\n",
       "       [0.49152552, 0.50847448],\n",
       "       [0.49152571, 0.50847429],\n",
       "       [0.49152585, 0.50847415],\n",
       "       [0.49152603, 0.50847397],\n",
       "       [0.49152606, 0.50847394],\n",
       "       [0.49152611, 0.50847389],\n",
       "       [0.49152536, 0.50847464],\n",
       "       [0.4915252 , 0.5084748 ],\n",
       "       [0.49152511, 0.50847489],\n",
       "       [0.49152522, 0.50847478],\n",
       "       [0.4915253 , 0.5084747 ],\n",
       "       [0.49152536, 0.50847464],\n",
       "       [0.49152542, 0.50847458],\n",
       "       [0.49152558, 0.50847442],\n",
       "       [0.49152572, 0.50847428],\n",
       "       [0.49152575, 0.50847425],\n",
       "       [0.49152577, 0.50847423],\n",
       "       [0.49152594, 0.50847406],\n",
       "       [0.49152586, 0.50847414],\n",
       "       [0.49152589, 0.50847411],\n",
       "       [0.4915259 , 0.5084741 ],\n",
       "       [0.49152578, 0.50847422],\n",
       "       [0.49152575, 0.50847425],\n",
       "       [0.49152568, 0.50847432],\n",
       "       [0.49152562, 0.50847438],\n",
       "       [0.49152546, 0.50847454],\n",
       "       [0.49152544, 0.50847456],\n",
       "       [0.4915254 , 0.5084746 ],\n",
       "       [0.49152541, 0.50847459],\n",
       "       [0.49152546, 0.50847454],\n",
       "       [0.49152536, 0.50847464],\n",
       "       [0.49152544, 0.50847456],\n",
       "       [0.49152553, 0.50847447],\n",
       "       [0.49152545, 0.50847455],\n",
       "       [0.49152563, 0.50847437],\n",
       "       [0.49152578, 0.50847422],\n",
       "       [0.49152524, 0.50847476],\n",
       "       [0.49152533, 0.50847467],\n",
       "       [0.49152543, 0.50847457],\n",
       "       [0.49152541, 0.50847459],\n",
       "       [0.49152545, 0.50847455],\n",
       "       [0.49152552, 0.50847448],\n",
       "       [0.4915256 , 0.5084744 ],\n",
       "       [0.49152572, 0.50847428],\n",
       "       [0.49152573, 0.50847427],\n",
       "       [0.49152587, 0.50847413],\n",
       "       [0.4915259 , 0.5084741 ],\n",
       "       [0.49152593, 0.50847407],\n",
       "       [0.491526  , 0.508474  ],\n",
       "       [0.49152607, 0.50847393],\n",
       "       [0.49152615, 0.50847385],\n",
       "       [0.49152616, 0.50847384],\n",
       "       [0.4915262 , 0.5084738 ],\n",
       "       [0.49152611, 0.50847389],\n",
       "       [0.491526  , 0.508474  ],\n",
       "       [0.49152606, 0.50847394],\n",
       "       [0.49152614, 0.50847386],\n",
       "       [0.49152608, 0.50847392],\n",
       "       [0.49152601, 0.50847399],\n",
       "       [0.49152587, 0.50847413],\n",
       "       [0.49152578, 0.50847422],\n",
       "       [0.49152571, 0.50847429],\n",
       "       [0.49152562, 0.50847438],\n",
       "       [0.49152548, 0.50847452],\n",
       "       [0.49152533, 0.50847467],\n",
       "       [0.49152515, 0.50847485],\n",
       "       [0.49152521, 0.50847479],\n",
       "       [0.4915251 , 0.5084749 ],\n",
       "       [0.49152508, 0.50847492],\n",
       "       [0.49152517, 0.50847483],\n",
       "       [0.4915253 , 0.5084747 ],\n",
       "       [0.49152521, 0.50847479],\n",
       "       [0.49152514, 0.50847486],\n",
       "       [0.49152508, 0.50847492],\n",
       "       [0.49152518, 0.50847482],\n",
       "       [0.49152535, 0.50847465],\n",
       "       [0.49152537, 0.50847463],\n",
       "       [0.49152554, 0.50847446],\n",
       "       [0.49152551, 0.50847449],\n",
       "       [0.49152589, 0.50847411],\n",
       "       [0.49152596, 0.50847404],\n",
       "       [0.49152594, 0.50847406],\n",
       "       [0.49152582, 0.50847418],\n",
       "       [0.4915257 , 0.5084743 ],\n",
       "       [0.49152562, 0.50847438],\n",
       "       [0.49152563, 0.50847437],\n",
       "       [0.49152555, 0.50847445],\n",
       "       [0.49152562, 0.50847438],\n",
       "       [0.49152574, 0.50847426],\n",
       "       [0.49152553, 0.50847447],\n",
       "       [0.4915253 , 0.5084747 ],\n",
       "       [0.49152522, 0.50847478],\n",
       "       [0.49152504, 0.50847496],\n",
       "       [0.49152516, 0.50847484],\n",
       "       [0.49152584, 0.50847416],\n",
       "       [0.49152527, 0.50847473]])"
      ]
     },
     "execution_count": 91,
     "metadata": {},
     "output_type": "execute_result"
    }
   ],
   "source": [
    "Y_prob = cls.predict_proba(X)\n",
    "Y_prob"
   ]
  },
  {
   "cell_type": "code",
   "execution_count": 92,
   "metadata": {},
   "outputs": [
    {
     "data": {
      "text/plain": [
       "array([0, 0, 0, 0, 0, 0, 0, 0, 0, 0, 0, 0, 0, 0, 0, 0, 0, 0, 0, 0, 0, 0,\n",
       "       0, 0, 0, 0, 0, 0, 0, 0, 0, 0, 0, 0, 0, 0, 0, 0, 0, 0, 0, 0, 0, 0,\n",
       "       0, 0, 0, 0, 0, 0, 0, 0, 0, 0, 0, 0, 0, 0, 0, 0, 0, 0, 0, 0, 0, 0,\n",
       "       0, 0, 0, 0, 0, 0, 0, 0, 0, 0, 0, 0, 0, 0, 0, 0, 0, 0, 0, 0, 0, 0,\n",
       "       0, 0, 0, 0, 0, 0, 0, 0, 0, 0, 0, 0, 0, 0, 0, 0, 0, 0, 0, 0, 0, 0,\n",
       "       0, 0, 0, 0, 0, 0, 0, 0])"
      ]
     },
     "execution_count": 92,
     "metadata": {},
     "output_type": "execute_result"
    }
   ],
   "source": [
    "Y_hat = cls.predict(X)\n",
    "Y_hat"
   ]
  },
  {
   "cell_type": "code",
   "execution_count": 93,
   "metadata": {},
   "outputs": [
    {
     "data": {
      "text/plain": [
       "0.5084745762711864"
      ]
     },
     "execution_count": 93,
     "metadata": {},
     "output_type": "execute_result"
    }
   ],
   "source": [
    "accuracy_score(Y, Y_hat)"
   ]
  },
  {
   "cell_type": "code",
   "execution_count": 94,
   "metadata": {},
   "outputs": [
    {
     "name": "stderr",
     "output_type": "stream",
     "text": [
      "<ipython-input-2-1d8d12161a03>:10: UserWarning: No contour levels were found within the data range.\n",
      "  ax.contour(xx1, xx2, Z, levels=[threshold], colors='black')\n"
     ]
    },
    {
     "data": {
      "image/png": "[encoded data removed]",
      "text/plain": [
       "<Figure size 432x288 with 1 Axes>"
      ]
     },
     "metadata": {
      "needs_background": "light"
     },
     "output_type": "display_data"
    }
   ],
   "source": [
    "plot_data(X, Y)\n",
    "plot_surface(cls, X[:, 0], X[:, 1])"
   ]
  },
  {
   "cell_type": "markdown",
   "metadata": {},
   "source": [
    "Зверніть увагу на границю прийняття рішення. Модель старається побудувати складну криву, що може свідчити про її перетренування. Порівняйте отримані результати з класом з sklearn. Спробуйте додати нові шари для нашого класу та порівняти результати тоді. Поекспериментуйте з гіперпараметрами для обох класів."
   ]
  },
  {
   "cell_type": "code",
   "execution_count": 95,
   "metadata": {},
   "outputs": [],
   "source": [
    "from sklearn.neural_network import MLPClassifier\n",
    "clf = MLPClassifier(hidden_layer_sizes = (5,10,), max_iter = 10000, activation = 'relu', solver = 'sgd', learning_rate_init = 0.01, learning_rate = 'constant')"
   ]
  },
  {
   "cell_type": "code",
   "execution_count": 96,
   "metadata": {},
   "outputs": [
    {
     "data": {
      "text/plain": [
       "MLPClassifier(hidden_layer_sizes=(5, 10), learning_rate_init=0.01,\n",
       "              max_iter=10000, solver='sgd')"
      ]
     },
     "execution_count": 96,
     "metadata": {},
     "output_type": "execute_result"
    }
   ],
   "source": [
    "clf.fit(X, Y)"
   ]
  },
  {
   "cell_type": "code",
   "execution_count": 97,
   "metadata": {},
   "outputs": [
    {
     "data": {
      "image/png": "[encoded data removed]",
      "text/plain": [
       "<Figure size 432x288 with 1 Axes>"
      ]
     },
     "metadata": {
      "needs_background": "light"
     },
     "output_type": "display_data"
    }
   ],
   "source": [
    "plot_data(X, Y)\n",
    "plot_surface(clf, X[:, 0], X[:, 1])"
   ]
  },
  {
   "cell_type": "code",
   "execution_count": 98,
   "metadata": {},
   "outputs": [
    {
     "data": {
      "text/plain": [
       "0.8389830508474576"
      ]
     },
     "execution_count": 98,
     "metadata": {},
     "output_type": "execute_result"
    }
   ],
   "source": [
    "accuracy_score(Y, clf.predict(X))"
   ]
  },
  {
   "cell_type": "code",
   "execution_count": 99,
   "metadata": {},
   "outputs": [
    {
     "data": {
      "text/plain": [
       "882"
      ]
     },
     "execution_count": 99,
     "metadata": {},
     "output_type": "execute_result"
    }
   ],
   "source": [
    "clf.n_iter_"
   ]
  },
  {
   "cell_type": "markdown",
   "metadata": {},
   "source": [
    "# Second task"
   ]
  },
  {
   "cell_type": "code",
   "execution_count": 100,
   "metadata": {},
   "outputs": [
    {
     "name": "stdout",
     "output_type": "stream",
     "text": [
      "Training set: X=(100, 2), y=(100,)\n"
     ]
    }
   ],
   "source": [
    "data_columns = [\"exam1\", \"exam2\"]\n",
    "target_column = \"submitted\"\n",
    "df = pd.read_csv(\"sats.csv\")\n",
    "X, Y = df[data_columns].values, df[target_column]\n",
    "print('Training set: X={}, y={}'.format(X.shape, Y.shape))\n"
   ]
  },
  {
   "cell_type": "code",
   "execution_count": 101,
   "metadata": {},
   "outputs": [
    {
     "data": {
      "image/png": "[encoded data removed]",
      "text/plain": [
       "<Figure size 432x288 with 1 Axes>"
      ]
     },
     "metadata": {
      "needs_background": "light"
     },
     "output_type": "display_data"
    }
   ],
   "source": [
    "plot_data(X, Y)"
   ]
  },
  {
   "cell_type": "code",
   "execution_count": 102,
   "metadata": {},
   "outputs": [],
   "source": [
    "cls = NeuralNet(normalize = True, learning_rate = 0.6, num_iter = 4000, hidden_layer_sizes=(100,), tol=1e-6)"
   ]
  },
  {
   "cell_type": "code",
   "execution_count": 103,
   "metadata": {},
   "outputs": [
    {
     "name": "stdout",
     "output_type": "stream",
     "text": [
      "0-th iteration: 0.6991296069519352\n",
      "1000-th iteration: 0.6693015016227121\n",
      "2000-th iteration: 0.4440232110053385\n",
      "3000-th iteration: 0.22970861412903318\n"
     ]
    },
    {
     "data": {
      "image/png": "[encoded data removed]",
      "text/plain": [
       "<Figure size 432x288 with 1 Axes>"
      ]
     },
     "metadata": {
      "needs_background": "light"
     },
     "output_type": "display_data"
    }
   ],
   "source": [
    "cls.fit(X, Y.values.reshape((df.shape[0], 1)))"
   ]
  },
  {
   "cell_type": "code",
   "execution_count": 104,
   "metadata": {},
   "outputs": [
    {
     "name": "stdout",
     "output_type": "stream",
     "text": [
      "{'W_arr': [array([[ 2.07962943e+00,  1.83861286e+00],\n",
      "       [ 2.79243766e+00,  2.45042632e+00],\n",
      "       [ 6.83939091e-01,  6.26918914e-01],\n",
      "       [-7.24597793e-01, -6.36344665e-01],\n",
      "       [-3.02612014e+00, -2.68502888e+00],\n",
      "       [-6.86464050e-01, -5.87591012e-01],\n",
      "       [-1.83305884e-01, -1.52039265e-01],\n",
      "       [ 5.70825869e-02,  3.12115797e-02],\n",
      "       [ 1.90299955e+00,  1.67619389e+00],\n",
      "       [-1.85910007e+00, -1.63576846e+00],\n",
      "       [-8.21173251e-01, -6.98467306e-01],\n",
      "       [ 2.91509459e-01,  2.60658724e-01],\n",
      "       [ 2.01792821e+00,  1.80065527e+00],\n",
      "       [-1.13624901e-01, -9.91734057e-02],\n",
      "       [ 4.88046547e-02,  3.29253528e-02],\n",
      "       [-8.95433813e-01, -7.80070575e-01],\n",
      "       [ 9.64048890e-01,  8.60629579e-01],\n",
      "       [-1.02299396e+00, -9.05339825e-01],\n",
      "       [-8.41745260e-01, -7.42243411e-01],\n",
      "       [ 5.14086705e-02,  3.83151351e-02],\n",
      "       [ 2.62764866e+00,  2.31670644e+00],\n",
      "       [ 5.63666763e-01,  5.06058990e-01],\n",
      "       [-2.69522171e-01, -2.44909318e-01],\n",
      "       [-6.53344973e-02, -5.63354597e-02],\n",
      "       [-9.05542870e-01, -7.82430672e-01],\n",
      "       [ 5.55027687e-01,  5.09218454e-01],\n",
      "       [ 4.37002765e-01,  3.87216895e-01],\n",
      "       [ 9.73817950e-01,  8.76398706e-01],\n",
      "       [-2.20122466e+00, -1.94291774e+00],\n",
      "       [-1.19072633e+00, -1.05884076e+00],\n",
      "       [ 3.00499285e-01,  2.57637287e-01],\n",
      "       [ 1.82953156e+00,  1.62928820e+00],\n",
      "       [-2.24091714e-01, -1.85079492e-01],\n",
      "       [-8.04066073e-01, -7.02492766e-01],\n",
      "       [ 2.60021607e+00,  2.28376305e+00],\n",
      "       [ 2.31555150e+00,  2.07722615e+00],\n",
      "       [ 3.38761623e-01,  2.82907798e-01],\n",
      "       [-6.29948383e-01, -5.43882560e-01],\n",
      "       [-4.88436056e-01, -4.19733948e-01],\n",
      "       [-3.65915402e-01, -3.53108354e-01],\n",
      "       [-4.40427602e-02, -5.20754081e-02],\n",
      "       [-6.44750920e-01, -5.63061204e-01],\n",
      "       [-2.67322383e+00, -2.36350657e+00],\n",
      "       [ 3.04113114e+00,  2.69098783e+00],\n",
      "       [-9.50305021e-01, -8.21633295e-01],\n",
      "       [-1.86911229e-02, -3.76520941e-02],\n",
      "       [-7.80130143e-01, -6.90496352e-01],\n",
      "       [-1.32829950e+00, -1.16803058e+00],\n",
      "       [ 3.10997970e-01,  2.66768939e-01],\n",
      "       [ 2.08369167e+00,  1.86175497e+00],\n",
      "       [-1.33207154e+00, -1.18127110e+00],\n",
      "       [-3.08428596e-03,  1.37692523e-02],\n",
      "       [ 1.08628225e+00,  9.60343124e-01],\n",
      "       [-1.20687329e+00, -1.04660001e+00],\n",
      "       [ 1.41091659e+00,  1.26280176e+00],\n",
      "       [-1.64956026e+00, -1.44609268e+00],\n",
      "       [ 9.31239891e-01,  8.31447817e-01],\n",
      "       [ 2.50973772e-01,  2.40881555e-01],\n",
      "       [ 1.11855938e+00,  9.99922421e-01],\n",
      "       [ 1.29017253e+00,  1.13603794e+00],\n",
      "       [-1.29046600e+00, -1.14216026e+00],\n",
      "       [-7.56624947e-01, -6.83061810e-01],\n",
      "       [ 1.36000049e-01,  1.23429439e-01],\n",
      "       [ 1.21844409e+00,  1.08189411e+00],\n",
      "       [-5.50103688e-02, -5.11128992e-02],\n",
      "       [ 1.22914082e+00,  1.07924819e+00],\n",
      "       [ 1.93496297e+00,  1.73402439e+00],\n",
      "       [ 4.35311434e-01,  3.99242024e-01],\n",
      "       [-2.34051283e+00, -2.06592916e+00],\n",
      "       [ 6.72524334e-01,  6.09688987e-01],\n",
      "       [ 2.52512892e+00,  2.25160029e+00],\n",
      "       [ 6.17246417e-01,  5.61720979e-01],\n",
      "       [ 1.91822283e+00,  1.71395232e+00],\n",
      "       [-2.45188876e-01, -2.20801992e-01],\n",
      "       [-1.00766954e+00, -8.95207366e-01],\n",
      "       [-1.77662760e+00, -1.56827446e+00],\n",
      "       [-3.08137853e-01, -2.76136636e-01],\n",
      "       [ 1.94710967e+00,  1.72916679e+00],\n",
      "       [ 3.67831763e-01,  3.33535805e-01],\n",
      "       [ 1.32425741e+00,  1.16291597e+00],\n",
      "       [ 4.50392402e-01,  3.92552171e-01],\n",
      "       [ 3.89074439e+00,  3.44244228e+00],\n",
      "       [ 2.87320839e-01,  2.69710609e-01],\n",
      "       [-1.68292616e+00, -1.46426638e+00],\n",
      "       [ 5.71275100e-01,  4.91369364e-01],\n",
      "       [ 3.98610433e-01,  3.61922953e-01],\n",
      "       [-1.45096932e+00, -1.25461194e+00],\n",
      "       [-1.09979448e+00, -9.64071858e-01],\n",
      "       [-7.56818624e-01, -6.59362204e-01],\n",
      "       [-2.09812377e+00, -1.85176617e+00],\n",
      "       [ 2.49300112e-01,  2.30159949e-01],\n",
      "       [ 7.50355843e-01,  6.65267064e-01],\n",
      "       [-1.47584850e+00, -1.31548565e+00],\n",
      "       [-1.52205364e+00, -1.34157524e+00],\n",
      "       [ 3.52317800e-02,  2.24919531e-02],\n",
      "       [ 3.70820073e-01,  3.38118335e-01],\n",
      "       [ 6.81247844e-02,  7.03237670e-02],\n",
      "       [-1.81567800e+00, -1.59419654e+00],\n",
      "       [-2.36722123e+00, -2.07455885e+00],\n",
      "       [ 6.93872373e-01,  6.26410051e-01]]), array([[ 2.66508571e+00,  3.58846150e+00,  8.46024234e-01,\n",
      "        -1.01655255e+00, -4.06791645e+00, -9.56599870e-01,\n",
      "        -3.01337214e-01, -4.55962189e-03,  2.42917119e+00,\n",
      "        -2.51127717e+00, -1.12843745e+00,  3.17824423e-01,\n",
      "         2.59492223e+00, -2.15370255e-01, -9.59392879e-03,\n",
      "        -1.23655671e+00,  1.20524115e+00, -1.41288328e+00,\n",
      "        -1.17228322e+00, -4.20399215e-03,  3.37992336e+00,\n",
      "         6.78488577e-01, -4.25448840e-01, -1.51905111e-01,\n",
      "        -1.24570099e+00,  6.74237259e-01,  5.07675470e-01,\n",
      "         1.22256617e+00, -2.96711099e+00, -1.63735165e+00,\n",
      "         3.22433156e-01,  2.34456253e+00, -3.52864390e-01,\n",
      "        -1.11844923e+00,  3.33828402e+00,  2.99406893e+00,\n",
      "         3.67107646e-01, -8.86265112e-01, -7.00867988e-01,\n",
      "        -5.66997038e-01, -1.33458774e-01, -9.09727024e-01,\n",
      "        -3.59430415e+00,  3.92846394e+00, -1.30428249e+00,\n",
      "        -1.05391349e-01, -1.09293758e+00, -1.81070403e+00,\n",
      "         3.36096022e-01,  2.68310083e+00, -1.82220755e+00,\n",
      "        -6.03331120e-02,  1.36032905e+00, -1.64125779e+00,\n",
      "         1.79710447e+00, -2.23122612e+00,  1.16188126e+00,\n",
      "         2.75017818e-01,  1.41000235e+00,  1.62536063e+00,\n",
      "        -1.76575808e+00, -1.07064560e+00,  1.13625413e-01,\n",
      "         1.53715304e+00, -1.40847994e-01,  1.54328667e+00,\n",
      "         2.49042353e+00,  5.14189820e-01, -3.15148063e+00,\n",
      "         8.26392968e-01,  3.26206504e+00,  7.54319276e-01,\n",
      "         2.46494323e+00, -3.91738604e-01, -1.39484003e+00,\n",
      "        -2.40569708e+00, -4.74295305e-01,  2.49618400e+00,\n",
      "         4.21544022e-01,  1.66807974e+00,  5.20930000e-01,\n",
      "         5.04643205e+00,  3.20551622e-01, -2.26790750e+00,\n",
      "         6.74563918e-01,  4.62759586e-01, -1.95836041e+00,\n",
      "        -1.50800602e+00, -1.05538902e+00, -2.83065393e+00,\n",
      "         2.66814061e-01,  9.20056728e-01, -2.01671415e+00,\n",
      "        -2.06808627e+00, -2.64090471e-02,  4.26810632e-01,\n",
      "         2.90809493e-02, -2.45172974e+00, -3.17694319e+00,\n",
      "         8.52988812e-01]])], 'b_arr': [array([[-0.14656303],\n",
      "       [-0.01215063],\n",
      "       [-0.65891765],\n",
      "       [-0.57931709],\n",
      "       [-0.05161058],\n",
      "       [-0.596586  ],\n",
      "       [-0.73539643],\n",
      "       [-0.75711019],\n",
      "       [-0.1992319 ],\n",
      "       [-0.1638619 ],\n",
      "       [-0.54597238],\n",
      "       [-0.74673829],\n",
      "       [-0.1615329 ],\n",
      "       [-0.74469857],\n",
      "       [-0.75698798],\n",
      "       [-0.51255482],\n",
      "       [-0.56184356],\n",
      "       [-0.45686412],\n",
      "       [-0.53250753],\n",
      "       [-0.75712283],\n",
      "       [-0.0339885 ],\n",
      "       [-0.69518081],\n",
      "       [-0.71782486],\n",
      "       [-0.75000889],\n",
      "       [-0.50973122],\n",
      "       [-0.69603636],\n",
      "       [-0.72451601],\n",
      "       [-0.55665014],\n",
      "       [-0.09809114],\n",
      "       [-0.38620233],\n",
      "       [-0.74632301],\n",
      "       [-0.22026994],\n",
      "       [-0.72866766],\n",
      "       [-0.54897454],\n",
      "       [-0.03872477],\n",
      "       [-0.0867913 ],\n",
      "       [-0.74205014],\n",
      "       [-0.61608118],\n",
      "       [-0.66310208],\n",
      "       [-0.69220522],\n",
      "       [-0.75129969],\n",
      "       [-0.60965408],\n",
      "       [-0.0573526 ],\n",
      "       [ 0.01533043],\n",
      "       [-0.4912952 ],\n",
      "       [-0.75304784],\n",
      "       [-0.55666955],\n",
      "       [-0.33385363],\n",
      "       [-0.74508957],\n",
      "       [-0.14304037],\n",
      "       [-0.33044375],\n",
      "       [-0.75529836],\n",
      "       [-0.51447131],\n",
      "       [-0.38508694],\n",
      "       [-0.37666098],\n",
      "       [-0.22226053],\n",
      "       [-0.57458992],\n",
      "       [-0.7501481 ],\n",
      "       [-0.49898402],\n",
      "       [-0.43065492],\n",
      "       [-0.34713998],\n",
      "       [-0.56332046],\n",
      "       [-0.75743679],\n",
      "       [-0.45873955],\n",
      "       [-0.75080074],\n",
      "       [-0.45673126],\n",
      "       [-0.18500549],\n",
      "       [-0.72354055],\n",
      "       [-0.08094072],\n",
      "       [-0.66351103],\n",
      "       [-0.04845709],\n",
      "       [-0.67962574],\n",
      "       [-0.1909065 ],\n",
      "       [-0.72305125],\n",
      "       [-0.4625606 ],\n",
      "       [-0.18419951],\n",
      "       [-0.70964133],\n",
      "       [-0.18354488],\n",
      "       [-0.73600032],\n",
      "       [-0.41709777],\n",
      "       [-0.72250997],\n",
      "       [ 0.06987241],\n",
      "       [-0.74650569],\n",
      "       [-0.21391038],\n",
      "       [-0.69592473],\n",
      "       [-0.73078189],\n",
      "       [-0.29189189],\n",
      "       [-0.42672917],\n",
      "       [-0.56790289],\n",
      "       [-0.11411493],\n",
      "       [-0.75072896],\n",
      "       [-0.64078395],\n",
      "       [-0.27585976],\n",
      "       [-0.26240381],\n",
      "       [-0.75652428],\n",
      "       [-0.73537248],\n",
      "       [-0.75770025],\n",
      "       [-0.17513303],\n",
      "       [-0.07910516],\n",
      "       [-0.6572489 ]]), array([[-0.63800157]])]}\n"
     ]
    }
   ],
   "source": [
    "\n",
    "print(cls.parameters)"
   ]
  },
  {
   "cell_type": "code",
   "execution_count": 105,
   "metadata": {},
   "outputs": [
    {
     "data": {
      "text/plain": [
       "array([[1.42735845e-01, 8.57264155e-01],\n",
       "       [4.48581386e-04, 9.99551419e-01],\n",
       "       [8.39205567e-02, 9.16079443e-01],\n",
       "       [9.72993755e-01, 2.70062450e-02],\n",
       "       [9.92579671e-01, 7.42032892e-03],\n",
       "       [2.98774786e-02, 9.70122521e-01],\n",
       "       [9.95078921e-01, 4.92107941e-03],\n",
       "       [4.47633014e-01, 5.52366986e-01],\n",
       "       [9.98149810e-01, 1.85018956e-03],\n",
       "       [6.95868645e-01, 3.04131355e-01],\n",
       "       [8.62259848e-01, 1.37740152e-01],\n",
       "       [6.39508156e-02, 9.36049184e-01],\n",
       "       [9.96288591e-01, 3.71140933e-03],\n",
       "       [9.98893371e-01, 1.10662941e-03],\n",
       "       [2.11616666e-01, 7.88383334e-01],\n",
       "       [9.54369467e-01, 4.56305332e-02],\n",
       "       [4.49329887e-01, 5.50670113e-01],\n",
       "       [2.10222828e-01, 7.89777172e-01],\n",
       "       [9.98120724e-01, 1.87927555e-03],\n",
       "       [5.64979649e-01, 4.35020351e-01],\n",
       "       [1.18123015e-01, 8.81876985e-01],\n",
       "       [9.94044436e-01, 5.95556447e-03],\n",
       "       [2.26785119e-02, 9.77321488e-01],\n",
       "       [8.67783164e-04, 9.99132217e-01],\n",
       "       [9.76651354e-01, 2.33486464e-02],\n",
       "       [7.99123817e-01, 2.00876183e-01],\n",
       "       [5.86154458e-01, 4.13845542e-01],\n",
       "       [8.15099666e-01, 1.84900334e-01],\n",
       "       [1.48436464e-01, 8.51563536e-01],\n",
       "       [4.13462161e-02, 9.58653784e-01],\n",
       "       [8.43055153e-01, 1.56944847e-01],\n",
       "       [9.56142627e-01, 4.38573729e-02],\n",
       "       [2.13088435e-01, 7.86911565e-01],\n",
       "       [4.16231428e-01, 5.83768572e-01],\n",
       "       [1.23690623e-01, 8.76309377e-01],\n",
       "       [6.96237135e-02, 9.30376286e-01],\n",
       "       [7.90675667e-01, 2.09324333e-01],\n",
       "       [9.67260663e-01, 3.27393372e-02],\n",
       "       [2.64877052e-01, 7.35122948e-01],\n",
       "       [9.15847891e-02, 9.08415211e-01],\n",
       "       [9.38557646e-01, 6.14423542e-02],\n",
       "       [1.96392455e-02, 9.80360755e-01],\n",
       "       [9.97099124e-01, 2.90087601e-03],\n",
       "       [5.11080894e-01, 4.88919106e-01],\n",
       "       [1.55382755e-02, 9.84461725e-01],\n",
       "       [1.97097818e-01, 8.02902182e-01],\n",
       "       [9.79100756e-01, 2.08992442e-02],\n",
       "       [9.99931850e-01, 6.81502468e-05],\n",
       "       [9.95940769e-01, 4.05923074e-03],\n",
       "       [9.99866670e-01, 1.33329539e-04],\n",
       "       [9.92301037e-01, 7.69896266e-03],\n",
       "       [9.97276549e-01, 2.72345131e-03],\n",
       "       [8.56310835e-01, 1.43689165e-01],\n",
       "       [1.06806525e-02, 9.89319348e-01],\n",
       "       [2.51677386e-02, 9.74832261e-01],\n",
       "       [9.76818949e-02, 9.02318105e-01],\n",
       "       [9.98945175e-01, 1.05482505e-03],\n",
       "       [6.47141199e-01, 3.52858801e-01],\n",
       "       [9.63673070e-01, 3.63269305e-02],\n",
       "       [9.85555603e-01, 1.44443973e-02],\n",
       "       [9.97331658e-01, 2.66834247e-03],\n",
       "       [1.57253655e-03, 9.98427463e-01],\n",
       "       [1.29724158e-02, 9.87027584e-01],\n",
       "       [1.02503569e-03, 9.98974964e-01],\n",
       "       [1.21252344e-01, 8.78747656e-01],\n",
       "       [8.24130854e-02, 9.17586915e-01],\n",
       "       [8.97500647e-01, 1.02499353e-01],\n",
       "       [2.84888979e-02, 9.71511102e-01],\n",
       "       [9.99534082e-01, 4.65918072e-04],\n",
       "       [6.69457148e-01, 3.30542852e-01],\n",
       "       [5.99982373e-04, 9.99400018e-01],\n",
       "       [9.48722956e-01, 5.12770440e-02],\n",
       "       [9.99131813e-01, 8.68187364e-04],\n",
       "       [8.28938522e-01, 1.71061478e-01],\n",
       "       [8.51734624e-01, 1.48265376e-01],\n",
       "       [9.99562738e-01, 4.37261941e-04],\n",
       "       [8.64510928e-01, 1.35489072e-01],\n",
       "       [5.98133386e-01, 4.01866614e-01],\n",
       "       [4.05354886e-02, 9.59464511e-01],\n",
       "       [5.86112938e-01, 4.13887062e-01],\n",
       "       [9.96365530e-01, 3.63446952e-03],\n",
       "       [9.44224298e-01, 5.57757020e-02],\n",
       "       [8.41165887e-01, 1.58834113e-01],\n",
       "       [2.59984873e-01, 7.40015127e-01],\n",
       "       [9.99451695e-01, 5.48304726e-04],\n",
       "       [9.91806645e-01, 8.19335489e-03],\n",
       "       [3.83751984e-01, 6.16248016e-01],\n",
       "       [9.98712301e-01, 1.28769908e-03],\n",
       "       [9.99697676e-01, 3.02324151e-04],\n",
       "       [1.63352369e-01, 8.36647631e-01],\n",
       "       [9.99480876e-01, 5.19123936e-04],\n",
       "       [9.99809816e-01, 1.90183865e-04],\n",
       "       [6.55822819e-03, 9.93441772e-01],\n",
       "       [9.96457322e-01, 3.54267756e-03],\n",
       "       [8.78494519e-01, 1.21505481e-01],\n",
       "       [8.06796546e-01, 1.93203454e-01],\n",
       "       [6.98191413e-01, 3.01808587e-01],\n",
       "       [9.99178865e-01, 8.21135486e-04],\n",
       "       [3.75338716e-01, 6.24661284e-01],\n",
       "       [9.98349561e-01, 1.65043854e-03]])"
      ]
     },
     "execution_count": 105,
     "metadata": {},
     "output_type": "execute_result"
    }
   ],
   "source": [
    "Y_prob = cls.predict_proba(X)\n",
    "Y_prob"
   ]
  },
  {
   "cell_type": "code",
   "execution_count": 106,
   "metadata": {},
   "outputs": [
    {
     "data": {
      "text/plain": [
       "array([0, 0, 0, 1, 1, 0, 1, 0, 1, 1, 1, 0, 1, 1, 0, 1, 0, 0, 1, 1, 0, 1,\n",
       "       0, 0, 1, 1, 1, 1, 0, 0, 1, 1, 0, 0, 0, 0, 1, 1, 0, 0, 1, 0, 1, 1,\n",
       "       0, 0, 1, 1, 1, 1, 1, 1, 1, 0, 0, 0, 1, 1, 1, 1, 1, 0, 0, 0, 0, 0,\n",
       "       1, 0, 1, 1, 0, 1, 1, 1, 1, 1, 1, 1, 0, 1, 1, 1, 1, 0, 1, 1, 0, 1,\n",
       "       1, 0, 1, 1, 0, 1, 1, 1, 1, 1, 0, 1])"
      ]
     },
     "execution_count": 106,
     "metadata": {},
     "output_type": "execute_result"
    }
   ],
   "source": [
    "Y_hat = cls.predict(X)\n",
    "Y_hat"
   ]
  },
  {
   "cell_type": "code",
   "execution_count": 107,
   "metadata": {},
   "outputs": [
    {
     "data": {
      "text/plain": [
       "0.89"
      ]
     },
     "execution_count": 107,
     "metadata": {},
     "output_type": "execute_result"
    }
   ],
   "source": [
    "accuracy_score(Y, Y_hat)"
   ]
  },
  {
   "cell_type": "code",
   "execution_count": 108,
   "metadata": {},
   "outputs": [
    {
     "data": {
      "image/png": "[encoded data removed]",
      "text/plain": [
       "<Figure size 432x288 with 1 Axes>"
      ]
     },
     "metadata": {
      "needs_background": "light"
     },
     "output_type": "display_data"
    }
   ],
   "source": [
    "plot_data(X, Y)\n",
    "plot_surface(cls, X[:, 0], X[:, 1])"
   ]
  },
  {
   "cell_type": "code",
   "execution_count": 109,
   "metadata": {},
   "outputs": [],
   "source": [
    "from sklearn.neural_network import MLPClassifier\n",
    "clf = MLPClassifier(hidden_layer_sizes = (800,), max_iter = 10000, activation = 'tanh', solver = 'sgd', learning_rate_init = 0.0005, learning_rate = 'constant')\n"
   ]
  },
  {
   "cell_type": "code",
   "execution_count": null,
   "metadata": {},
   "outputs": [],
   "source": [
    "clf.fit(X, Y)"
   ]
  },
  {
   "cell_type": "code",
   "execution_count": null,
   "metadata": {},
   "outputs": [],
   "source": [
    "plot_data(X, Y)\n",
    "plot_surface(clf, X[:, 0], X[:, 1])"
   ]
  },
  {
   "cell_type": "code",
   "execution_count": null,
   "metadata": {},
   "outputs": [],
   "source": [
    "accuracy_score(Y, clf.predict(X))"
   ]
  },
  {
   "cell_type": "code",
   "execution_count": null,
   "metadata": {},
   "outputs": [],
   "source": []
  },
  {
   "cell_type": "code",
   "execution_count": null,
   "metadata": {},
   "outputs": [],
   "source": []
  }
 ],
 "metadata": {
  "anaconda-cloud": {},
  "kernelspec": {
   "display_name": "Python 3",
   "language": "python",
   "name": "python3"
  },
  "language_info": {
   "codemirror_mode": {
    "name": "ipython",
    "version": 3
   },
   "file_extension": ".py",
   "mimetype": "text/x-python",
   "name": "python",
   "nbconvert_exporter": "python",
   "pygments_lexer": "ipython3",
   "version": "3.8.5"
  }
 },
 "nbformat": 4,
 "nbformat_minor": 1
}
