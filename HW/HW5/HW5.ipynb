{
 "cells": [
  {
   "cell_type": "markdown",
   "metadata": {},
   "source": [
    "В цій практичній роботі ми спробуємо реалізувати нейронну мережу з двох шарів (прихований і вихідний). Запропонований підхід стане заготовкою для реалізації наступних оптимізацій: MBGD, ADAM та регуляризації. \n",
    "\n",
    "Сьогодні ж вам пропонується додати до цього класу підтримку довільної кількості шарів та нейронів в них (наприклад, передавати їх параметром в конструктор, як це робиться в MLPClassifier за допомогою hidden_layer_sizes). Також потрібно передбачити можливість ранньої зупинки ітераційного процесу, якщо значення штрафної функції не покращуватиметься протягом певної кількості ітерацій. Наприклад, якщо протягом $k$ ітерацій штрафна функція за модулем не стане меншою, ніж на поточному кроці."
   ]
  },
  {
   "cell_type": "code",
   "execution_count": 1,
   "metadata": {},
   "outputs": [],
   "source": [
    "import numpy as np\n",
    "import pandas as pd\n",
    "from sklearn.model_selection import train_test_split\n",
    "from mpl_toolkits.mplot3d import Axes3D\n",
    "import matplotlib.pyplot as plt\n",
    "\n",
    "from matplotlib.colors import ListedColormap\n",
    "cm_bright = ListedColormap(['#FF0000', '#0000FF'])\n",
    "%matplotlib inline\n",
    "from sklearn.metrics import accuracy_score\n",
    "#import torch.nn as nn\n",
    "\n",
    "import sklearn.linear_model"
   ]
  },
  {
   "cell_type": "code",
   "execution_count": 2,
   "metadata": {},
   "outputs": [],
   "source": [
    "def plot_surface(cls, x_1, x_2, ax=None, threshold=0.5, contourf=False):\n",
    "    xx1, xx2 = np.meshgrid(np.linspace(x_1.min(), x_1.max(), 100), \n",
    "                           np.linspace(x_2.min(), x_2.max(), 100))\n",
    "\n",
    "    X_pred = np.c_[xx1.ravel(), xx2.ravel()]\n",
    "    pred = cls.predict_proba(X_pred)[:, 0]\n",
    "    Z = pred.reshape((100, 100))\n",
    "    if ax is None:\n",
    "        ax = plt.gca()\n",
    "    ax.contour(xx1, xx2, Z, levels=[threshold], colors='black')\n",
    "    ax.set_xlim((x_1.min(), x_1.max()))\n",
    "    ax.set_ylim((x_2.min(), x_2.max()))"
   ]
  },
  {
   "cell_type": "code",
   "execution_count": 3,
   "metadata": {},
   "outputs": [],
   "source": [
    "def plot_data(X, y):\n",
    "    ax = plt.gca()\n",
    "    ax.scatter(X[:,0], X[:,1], c=(y == 1), cmap=cm_bright)"
   ]
  },
  {
   "cell_type": "code",
   "execution_count": 18,
   "metadata": {},
   "outputs": [],
   "source": [
    "class NeuralNet:\n",
    "   \n",
    "    def __init__(self, normalize = True, learning_rate = 0.01, num_iter = 30000, hidden_layer_sizes =(4,4), tol=1e-6, notimp_iters=200 ):\n",
    "        self.learning_rate = learning_rate\n",
    "        self.num_iter = num_iter\n",
    "        self.normalize = normalize\n",
    "        self.hidden_layer_sizes =hidden_layer_sizes;\n",
    "        #self.relu = nn.ReLU();\n",
    "        self.tol =tol;\n",
    "        self.num_layers =len(hidden_layer_sizes);\n",
    "        self.notimp_iters = notimp_iters;\n",
    "       # self.parameters=None\n",
    "        \n",
    "         \n",
    "    def __softmax(self, Z):\n",
    "        return np.exp(Z)/np.sum(np.exp(Z))\n",
    "        \n",
    "    \n",
    "    def __normalize(self, X, mean = None, std = None):\n",
    "    \n",
    "        n = X.shape[0]\n",
    "        m = mean\n",
    "        if m is None:\n",
    "            m = np.mean(X, axis=1).reshape((n, 1))\n",
    "        s = std\n",
    "        if s is None:\n",
    "            s = np.std(X, axis=1).reshape((n, 1))\n",
    "        X_new = (X - m) / s**2\n",
    "        return X_new, m, s\n",
    "\n",
    "    def __sigmoid(self, Z):\n",
    "        \n",
    "        return 1 / (1 + np.exp(-Z))\n",
    "    \n",
    "    def __initialize_parameters(self, n_x, n_arr):\n",
    "        W_arr =[];\n",
    "        b_arr =[];\n",
    "       \n",
    "        ######\n",
    "        W1 = np.random.randn(n_arr[0], n_x)*0.01;\n",
    "        b1 = np.zeros((n_arr[0], 1));\n",
    "        W_arr.append(W1);\n",
    "        b_arr.append(b1);\n",
    "        \n",
    "     \n",
    "        for n_l in range(1,len(n_arr)):\n",
    "            W_temp =np.random.randn(n_arr[n_l], n_arr[n_l-1]) * 0.01;\n",
    "            b_temp = np.zeros((n_arr[n_l], 1));\n",
    "            W_arr.append(W_temp);\n",
    "            b_arr.append(b_temp);\n",
    "        \n",
    "        \n",
    "        W2 =np.random.randn(1, n_arr[len(n_arr)-1]) * 0.01\n",
    "        b2 = 0;\n",
    "        \n",
    "        W_arr.append(W2);\n",
    "        b_arr.append(b2);\n",
    "        \n",
    "        \n",
    "        self.parameters = {\"W_arr\" : W_arr, \"b_arr\" : b_arr}\n",
    "       \n",
    "    def __forward_propagation(self, X):\n",
    "        \n",
    "        W_arr =self.parameters[\"W_arr\"]\n",
    "        b_arr = self.parameters[\"b_arr\"]\n",
    "        \n",
    "        W1 = W_arr[0];\n",
    "        b1 = b_arr[0];\n",
    "        \n",
    "        W2 =W_arr[len(W_arr)-1];\n",
    "        b2 =b_arr[len(b_arr)-1];\n",
    "        \n",
    "        Z_arr =[];\n",
    "        A_arr =[];\n",
    "        \n",
    "        Z1 =np.dot(W1,X)+b1;\n",
    "        A1 = self.__sigmoid(Z1);\n",
    "        \n",
    "        \n",
    "        Z_arr.append(Z1);\n",
    "        A_arr.append(A1);\n",
    "        \n",
    "       \n",
    "     \n",
    "        for l in range(1,self.num_layers):\n",
    "            Z_temp = np.dot(W_arr[l],A_arr[l-1])+b_arr[l];\n",
    "            A_temp = self.__sigmoid(Z_temp);\n",
    "            Z_arr.append(Z_temp);\n",
    "            A_arr.append(A_temp);\n",
    "\n",
    "            \n",
    "     #added\n",
    "        Z_temp = np.dot(W_arr[self.num_layers],A_arr[self.num_layers-1])+b_arr[self.num_layers];\n",
    "        A_temp = self.__softmax(Z_temp);\n",
    "        Z_arr.append(Z_temp);\n",
    "        A_arr.append(A_temp);\n",
    "            \n",
    "        cache =(W_arr,b_arr,Z_arr,A_arr);\n",
    "        \n",
    "        return A_arr[-1], cache\n",
    "    \n",
    "    def compute_cost(self, A, Y):\n",
    "        m = Y.shape[1]\n",
    "        res = Y * np.log(A) + (1 - Y) * np.log(1 - A)\n",
    "        J = -(1 / m) * np.sum(res)\n",
    "        return J\n",
    "        \n",
    " \n",
    "    def __backward_propagation(self, X, Y, cache):\n",
    "        m = X.shape[1]\n",
    "        n = X.shape[0]\n",
    "        (W_arr,b_arr,Z_arr,A_arr) = cache\n",
    "\n",
    "        \n",
    "        dZ_arr=[];\n",
    "        dW_arr =[];\n",
    "        dA_arr=[];\n",
    "        db_arr =[];\n",
    "        \n",
    "        dZ2 = A_arr[-1] -Y;\n",
    "        dW2 = 1. / m * np.dot(dZ2, A_arr[-2].T);\n",
    "        db2 =1. / m * np.sum(dZ2, axis = 1, keepdims = True);\n",
    "        dA2 =np.dot(W_arr[-1].T,dZ2);\n",
    "        dZ_arr.insert(0,dZ2); \n",
    "        dW_arr.insert(0,dW2);\n",
    "        db_arr.insert(0,db2);\n",
    "        dA_arr.insert(0,dA2);\n",
    "             \n",
    "   \n",
    "        for l_inv in range(len(W_arr)-2,0,-1):\n",
    "\n",
    "            dZ_temp =np.multiply(dA_arr[0], np.multiply(A_arr[l_inv], 1 - A_arr[l_inv]));\n",
    "            dW_temp =1. / m * np.dot(dZ_temp, A_arr[l_inv-1].T);\n",
    "            db_temp =1. / m * np.sum(dZ_temp, axis = 1, keepdims = True);\n",
    "            dA_temp =np.dot(W_arr[l_inv].T,dZ_temp);\n",
    "            \n",
    "            dZ_arr.insert(0,dZ_temp);\n",
    "            dW_arr.insert(0,dW_temp);\n",
    "            dA_arr.insert(0,dA_temp);\n",
    "            db_arr.insert(0,db_temp);\n",
    "        \n",
    "       \n",
    "        dA1 =dA_arr[0];\n",
    "        dZ1 = np.multiply(dA1, np.multiply(A_arr[0], 1 - A_arr[0]));\n",
    "        dW1 = 1. / m * np.dot(dZ1, X.T)\n",
    "        db1 =1. / m * np.sum(dZ1, axis = 1, keepdims = True)\n",
    "        \n",
    "        dZ_arr.insert(0,dZ1); \n",
    "        dW_arr.insert(0,dW1);\n",
    "        db_arr.insert(0,db1);\n",
    "       \n",
    "        grads ={\"dZ_arr\":dZ_arr,\"dW_arr\":dW_arr,\"db_arr\":db_arr}\n",
    "        return grads\n",
    "  \n",
    "    \n",
    "   \n",
    "        \n",
    "    def __update_parameters(self, grads):\n",
    "            \n",
    "        W_arr =self.parameters[\"W_arr\"];\n",
    "        b_arr =self.parameters[\"b_arr\"];\n",
    "        dW_arr =grads[\"dW_arr\"];\n",
    "        db_arr =grads[\"db_arr\"];\n",
    "        \n",
    "        Wnew =W_arr.copy();\n",
    "        bnew = b_arr.copy();\n",
    "        for l in range(0,len(W_arr)):\n",
    "            Wnew[l]-=self.learning_rate * dW_arr[l];\n",
    "            bnew[l]-=self.learning_rate * db_arr[l];\n",
    "        self.parameters[\"W_arr\"] = Wnew;\n",
    "        self.parameters[\"b_arr\"] = bnew;\n",
    "        \n",
    "    def fit(self, X_vert, Y_vert, print_cost = True):\n",
    "        \n",
    "        \n",
    "        X, Y = X_vert.T, Y_vert.T\n",
    "        \n",
    "        if self.normalize:\n",
    "            X, self.__mean, self.__std = self.__normalize(X)\n",
    "        \n",
    "        costs = []\n",
    "        improve_costs =[]\n",
    "        \n",
    "        m = X.shape[1]\n",
    "        n_x = X.shape[0]\n",
    "        \n",
    "        self.__initialize_parameters(n_x,self.hidden_layer_sizes)\n",
    "\n",
    "        for i in range(self.num_iter):\n",
    "            A, cache = self.__forward_propagation(X)\n",
    "\n",
    "            cost = self.compute_cost(A, Y)\n",
    "\n",
    "            grads = self.__backward_propagation(X, Y, cache)\n",
    "\n",
    "            self.__update_parameters(grads)\n",
    "\n",
    "            if print_cost and i % 1000 == 0:\n",
    "                print(\"{}-th iteration: {}\".format(i, cost))\n",
    "\n",
    "            if i % 1000 == 0:\n",
    "                costs.append(cost)\n",
    "                \n",
    "            if i%self.notimp_iters ==0:\n",
    "                improve_costs.append(cost);\n",
    "                if len(improve_costs) >2:\n",
    "                    if abs(improve_costs[len(improve_costs)-1] - improve_costs[len(improve_costs)-2]) < self.tol:\n",
    "                        return;\n",
    "\n",
    "        if print_cost:\n",
    "            plt.plot(costs)\n",
    "            plt.ylabel(\"Cost\")\n",
    "            plt.xlabel(\"Iteration, *1000\")\n",
    "            plt.show()\n",
    "    \n",
    "    def predict_proba(self, X_vert):\n",
    "        X = X_vert.T\n",
    "        if self.normalize:\n",
    "            X, _, _ = self.__normalize(X, self.__mean, self.__std)\n",
    "        \n",
    "        probs = self.__forward_propagation(X)[0]\n",
    "        \n",
    "        return np.column_stack((probs.T, 1 - probs.T))\n",
    "    \n",
    "    def predict(self, X_vert):\n",
    "        positive_probs = self.predict_proba(X_vert)[:, 0]\n",
    "        return (positive_probs >= 0.5).astype(int)   \n"
   ]
  },
  {
   "cell_type": "markdown",
   "metadata": {},
   "source": [
    "Спочатку спробуйте цей клас на одній задачі, а потім на іншій."
   ]
  },
  {
   "cell_type": "code",
   "execution_count": null,
   "metadata": {},
   "outputs": [],
   "source": []
  },
  {
   "cell_type": "code",
   "execution_count": 19,
   "metadata": {},
   "outputs": [
    {
     "name": "stdout",
     "output_type": "stream",
     "text": [
      "Training set: X=(118, 2), y=(118,)\n"
     ]
    }
   ],
   "source": [
    "data_columns = [\"test1\", \"test2\"]\n",
    "target_column = \"passed\"\n",
    "df = pd.read_csv(\"tests.csv\")\n",
    "X, Y = df[data_columns].values, df[target_column]\n",
    "print('Training set: X={}, y={}'.format(X.shape, Y.shape))"
   ]
  },
  {
   "cell_type": "code",
   "execution_count": 20,
   "metadata": {},
   "outputs": [
    {
     "data": {
      "image/png": "[encoded data removed]",
      "text/plain": [
       "<Figure size 432x288 with 1 Axes>"
      ]
     },
     "metadata": {
      "needs_background": "light"
     },
     "output_type": "display_data"
    }
   ],
   "source": [
    "plot_data(X, Y)"
   ]
  },
  {
   "cell_type": "code",
   "execution_count": 27,
   "metadata": {},
   "outputs": [],
   "source": [
    "cls = NeuralNet(normalize = True, learning_rate = 0.001, num_iter = 10001,hidden_layer_sizes = (7,2),notimp_iters=100000,tol=1e-8)\n"
   ]
  },
  {
   "cell_type": "code",
   "execution_count": 28,
   "metadata": {},
   "outputs": [
    {
     "name": "stdout",
     "output_type": "stream",
     "text": [
      "0-th iteration: 2.3492402649057063\n",
      "1000-th iteration: 2.3492400339736386\n",
      "2000-th iteration: 2.349238564639207\n",
      "3000-th iteration: 2.3492337532315846\n",
      "4000-th iteration: 2.3492200617194197\n",
      "5000-th iteration: 2.349186327155258\n",
      "6000-th iteration: 2.3491232990921196\n",
      "7000-th iteration: 2.349037087375395\n",
      "8000-th iteration: 2.348945633224156\n",
      "9000-th iteration: 2.3488639011495613\n",
      "10000-th iteration: 2.3487982780699204\n"
     ]
    },
    {
     "data": {
      "image/png": "[encoded data removed]",
      "text/plain": [
       "<Figure size 432x288 with 1 Axes>"
      ]
     },
     "metadata": {
      "needs_background": "light"
     },
     "output_type": "display_data"
    }
   ],
   "source": [
    "cls.fit(X, Y.values.reshape((df.shape[0], 1)))"
   ]
  },
  {
   "cell_type": "code",
   "execution_count": 29,
   "metadata": {},
   "outputs": [
    {
     "name": "stdout",
     "output_type": "stream",
     "text": [
      "{'W_arr': [array([[-0.00269458, -0.00483325],\n",
      "       [-0.01650056, -0.01080413],\n",
      "       [-0.02483449,  0.00528066],\n",
      "       [-0.01893881,  0.00607865],\n",
      "       [-0.01315126,  0.00042052],\n",
      "       [-0.0243258 ,  0.0156846 ],\n",
      "       [-0.02464843,  0.00265965]]), array([[0.47212118, 0.48718155, 0.47637747, 0.4899029 , 0.50965347,\n",
      "        0.48090096, 0.50473009],\n",
      "       [0.49808863, 0.48127337, 0.4979547 , 0.48894991, 0.48878475,\n",
      "        0.50275409, 0.48499577]]), array([[3.45205601, 3.50476921]])], 'b_arr': [array([[0.11432047],\n",
      "       [0.11372908],\n",
      "       [0.11505922],\n",
      "       [0.11612016],\n",
      "       [0.12067927],\n",
      "       [0.11719882],\n",
      "       [0.11854637]]), array([[0.95678593],\n",
      "       [0.9746663 ]]), array([[4.83099153]])]}\n"
     ]
    }
   ],
   "source": [
    "print(cls.parameters)"
   ]
  },
  {
   "cell_type": "code",
   "execution_count": 30,
   "metadata": {},
   "outputs": [
    {
     "data": {
      "text/plain": [
       "array([[0.00851613, 0.99148387],\n",
       "       [0.00848743, 0.99151257],\n",
       "       [0.00854055, 0.99145945],\n",
       "       [0.00856868, 0.99143132],\n",
       "       [0.00859535, 0.99140465],\n",
       "       [0.00859222, 0.99140778],\n",
       "       [0.00856331, 0.99143669],\n",
       "       [0.00854005, 0.99145995],\n",
       "       [0.00847046, 0.99152954],\n",
       "       [0.00844465, 0.99155535],\n",
       "       [0.00839167, 0.99160833],\n",
       "       [0.00836298, 0.99163702],\n",
       "       [0.00834653, 0.99165347],\n",
       "       [0.00832753, 0.99167247],\n",
       "       [0.00838176, 0.99161824],\n",
       "       [0.0084299 , 0.9915701 ],\n",
       "       [0.00846061, 0.99153939],\n",
       "       [0.00850969, 0.99149031],\n",
       "       [0.00853263, 0.99146737],\n",
       "       [0.00859206, 0.99140794],\n",
       "       [0.00861632, 0.99138368],\n",
       "       [0.00861534, 0.99138466],\n",
       "       [0.00860156, 0.99139844],\n",
       "       [0.00856133, 0.99143867],\n",
       "       [0.00849742, 0.99150258],\n",
       "       [0.00842863, 0.99157137],\n",
       "       [0.00837572, 0.99162428],\n",
       "       [0.00833285, 0.99166715],\n",
       "       [0.00852241, 0.99147759],\n",
       "       [0.00855852, 0.99144148],\n",
       "       [0.00855666, 0.99144334],\n",
       "       [0.00853251, 0.99146749],\n",
       "       [0.00853154, 0.99146846],\n",
       "       [0.00854968, 0.99145032],\n",
       "       [0.00856234, 0.99143766],\n",
       "       [0.0085436 , 0.9914564 ],\n",
       "       [0.00852572, 0.99147428],\n",
       "       [0.00849155, 0.99150845],\n",
       "       [0.00846638, 0.99153362],\n",
       "       [0.00842692, 0.99157308],\n",
       "       [0.00841799, 0.99158201],\n",
       "       [0.00837994, 0.99162006],\n",
       "       [0.00834761, 0.99165239],\n",
       "       [0.00838904, 0.99161096],\n",
       "       [0.00835785, 0.99164215],\n",
       "       [0.00837098, 0.99162902],\n",
       "       [0.00834392, 0.99165608],\n",
       "       [0.00844858, 0.99155142],\n",
       "       [0.00840708, 0.99159292],\n",
       "       [0.00843229, 0.99156771],\n",
       "       [0.00846725, 0.99153275],\n",
       "       [0.00849259, 0.99150741],\n",
       "       [0.00851331, 0.99148669],\n",
       "       [0.0085322 , 0.9914678 ],\n",
       "       [0.00852828, 0.99147172],\n",
       "       [0.00857523, 0.99142477],\n",
       "       [0.0085265 , 0.9914735 ],\n",
       "       [0.00850476, 0.99149524],\n",
       "       [0.00846567, 0.99153433],\n",
       "       [0.00845415, 0.99154585],\n",
       "       [0.0084354 , 0.9915646 ],\n",
       "       [0.008396  , 0.991604  ],\n",
       "       [0.00837285, 0.99162715],\n",
       "       [0.00837232, 0.99162768],\n",
       "       [0.00833687, 0.99166313],\n",
       "       [0.00830023, 0.99169977],\n",
       "       [0.00831986, 0.99168014],\n",
       "       [0.00828679, 0.99171321],\n",
       "       [0.00828997, 0.99171003],\n",
       "       [0.00830346, 0.99169654],\n",
       "       [0.00829346, 0.99170654],\n",
       "       [0.00829947, 0.99170053],\n",
       "       [0.00830083, 0.99169917],\n",
       "       [0.00830722, 0.99169278],\n",
       "       [0.008345  , 0.991655  ],\n",
       "       [0.00836373, 0.99163627],\n",
       "       [0.00837832, 0.99162168],\n",
       "       [0.00839844, 0.99160156],\n",
       "       [0.00840724, 0.99159276],\n",
       "       [0.00844875, 0.99155125],\n",
       "       [0.00843969, 0.99156031],\n",
       "       [0.00849979, 0.99150021],\n",
       "       [0.00855606, 0.99144394],\n",
       "       [0.0085559 , 0.9914441 ],\n",
       "       [0.00862555, 0.99137445],\n",
       "       [0.0086228 , 0.9913772 ],\n",
       "       [0.00863934, 0.99136066],\n",
       "       [0.00863629, 0.99136371],\n",
       "       [0.00857875, 0.99142125],\n",
       "       [0.00857866, 0.99142134],\n",
       "       [0.00860345, 0.99139655],\n",
       "       [0.00860726, 0.99139274],\n",
       "       [0.00847868, 0.99152132],\n",
       "       [0.008491  , 0.991509  ],\n",
       "       [0.00852503, 0.99147497],\n",
       "       [0.0085229 , 0.9914771 ],\n",
       "       [0.00844794, 0.99155206],\n",
       "       [0.00841987, 0.99158013],\n",
       "       [0.00837165, 0.99162835],\n",
       "       [0.00832849, 0.99167151],\n",
       "       [0.00835902, 0.99164098],\n",
       "       [0.00826421, 0.99173579],\n",
       "       [0.00847947, 0.99152053],\n",
       "       [0.00851656, 0.99148344],\n",
       "       [0.00850502, 0.99149498],\n",
       "       [0.00857447, 0.99142553],\n",
       "       [0.00857348, 0.99142652],\n",
       "       [0.00853941, 0.99146059],\n",
       "       [0.00860344, 0.99139656],\n",
       "       [0.00861058, 0.99138942],\n",
       "       [0.0085937 , 0.9914063 ],\n",
       "       [0.00862585, 0.99137415],\n",
       "       [0.00865447, 0.99134553],\n",
       "       [0.00863776, 0.99136224],\n",
       "       [0.00860089, 0.99139911],\n",
       "       [0.0085055 , 0.9914945 ],\n",
       "       [0.00835254, 0.99164746],\n",
       "       [0.0086119 , 0.9913881 ]])"
      ]
     },
     "execution_count": 30,
     "metadata": {},
     "output_type": "execute_result"
    }
   ],
   "source": [
    "Y_prob = cls.predict_proba(X)\n",
    "Y_prob"
   ]
  },
  {
   "cell_type": "code",
   "execution_count": 31,
   "metadata": {},
   "outputs": [
    {
     "data": {
      "text/plain": [
       "array([0, 0, 0, 0, 0, 0, 0, 0, 0, 0, 0, 0, 0, 0, 0, 0, 0, 0, 0, 0, 0, 0,\n",
       "       0, 0, 0, 0, 0, 0, 0, 0, 0, 0, 0, 0, 0, 0, 0, 0, 0, 0, 0, 0, 0, 0,\n",
       "       0, 0, 0, 0, 0, 0, 0, 0, 0, 0, 0, 0, 0, 0, 0, 0, 0, 0, 0, 0, 0, 0,\n",
       "       0, 0, 0, 0, 0, 0, 0, 0, 0, 0, 0, 0, 0, 0, 0, 0, 0, 0, 0, 0, 0, 0,\n",
       "       0, 0, 0, 0, 0, 0, 0, 0, 0, 0, 0, 0, 0, 0, 0, 0, 0, 0, 0, 0, 0, 0,\n",
       "       0, 0, 0, 0, 0, 0, 0, 0])"
      ]
     },
     "execution_count": 31,
     "metadata": {},
     "output_type": "execute_result"
    }
   ],
   "source": [
    "Y_hat = cls.predict(X)\n",
    "Y_hat"
   ]
  },
  {
   "cell_type": "code",
   "execution_count": 32,
   "metadata": {},
   "outputs": [
    {
     "data": {
      "text/plain": [
       "0.5084745762711864"
      ]
     },
     "execution_count": 32,
     "metadata": {},
     "output_type": "execute_result"
    }
   ],
   "source": [
    "accuracy_score(Y, Y_hat)"
   ]
  },
  {
   "cell_type": "code",
   "execution_count": 34,
   "metadata": {},
   "outputs": [
    {
     "name": "stderr",
     "output_type": "stream",
     "text": [
      "<ipython-input-4-1d8d12161a03>:10: UserWarning: No contour levels were found within the data range.\n",
      "  ax.contour(xx1, xx2, Z, levels=[threshold], colors='black')\n"
     ]
    },
    {
     "data": {
      "image/png": "[encoded data removed]",
      "text/plain": [
       "<Figure size 432x288 with 1 Axes>"
      ]
     },
     "metadata": {
      "needs_background": "light"
     },
     "output_type": "display_data"
    }
   ],
   "source": [
    "plot_data(X, Y)\n",
    "plot_surface(cls, X[:, 0], X[:, 1])"
   ]
  },
  {
   "cell_type": "markdown",
   "metadata": {},
   "source": [
    "Зверніть увагу на границю прийняття рішення. Модель старається побудувати складну криву, що може свідчити про її перетренування. Порівняйте отримані результати з класом з sklearn. Спробуйте додати нові шари для нашого класу та порівняти результати тоді. Поекспериментуйте з гіперпараметрами для обох класів."
   ]
  },
  {
   "cell_type": "code",
   "execution_count": 35,
   "metadata": {},
   "outputs": [],
   "source": [
    "from sklearn.neural_network import MLPClassifier\n",
    "clf = MLPClassifier(hidden_layer_sizes = (5,10,), max_iter = 10000, activation = 'relu', solver = 'sgd', learning_rate_init = 0.01, learning_rate = 'constant')"
   ]
  },
  {
   "cell_type": "code",
   "execution_count": 36,
   "metadata": {},
   "outputs": [
    {
     "data": {
      "text/plain": [
       "MLPClassifier(hidden_layer_sizes=(5, 10), learning_rate_init=0.01,\n",
       "              max_iter=10000, solver='sgd')"
      ]
     },
     "execution_count": 36,
     "metadata": {},
     "output_type": "execute_result"
    }
   ],
   "source": [
    "clf.fit(X, Y)"
   ]
  },
  {
   "cell_type": "code",
   "execution_count": 37,
   "metadata": {},
   "outputs": [
    {
     "data": {
      "image/png": "[encoded data removed]",
      "text/plain": [
       "<Figure size 432x288 with 1 Axes>"
      ]
     },
     "metadata": {
      "needs_background": "light"
     },
     "output_type": "display_data"
    }
   ],
   "source": [
    "plot_data(X, Y)\n",
    "plot_surface(clf, X[:, 0], X[:, 1])"
   ]
  },
  {
   "cell_type": "code",
   "execution_count": 38,
   "metadata": {},
   "outputs": [
    {
     "data": {
      "text/plain": [
       "0.4745762711864407"
      ]
     },
     "execution_count": 38,
     "metadata": {},
     "output_type": "execute_result"
    }
   ],
   "source": [
    "accuracy_score(Y, clf.predict(X))"
   ]
  },
  {
   "cell_type": "code",
   "execution_count": 39,
   "metadata": {},
   "outputs": [
    {
     "data": {
      "text/plain": [
       "74"
      ]
     },
     "execution_count": 39,
     "metadata": {},
     "output_type": "execute_result"
    }
   ],
   "source": [
    "clf.n_iter_"
   ]
  },
  {
   "cell_type": "markdown",
   "metadata": {},
   "source": [
    "# Second task"
   ]
  },
  {
   "cell_type": "code",
   "execution_count": 40,
   "metadata": {},
   "outputs": [
    {
     "name": "stdout",
     "output_type": "stream",
     "text": [
      "Training set: X=(100, 2), y=(100,)\n"
     ]
    }
   ],
   "source": [
    "data_columns = [\"exam1\", \"exam2\"]\n",
    "target_column = \"submitted\"\n",
    "df = pd.read_csv(\"sats.csv\")\n",
    "X, Y = df[data_columns].values, df[target_column]\n",
    "print('Training set: X={}, y={}'.format(X.shape, Y.shape))\n"
   ]
  },
  {
   "cell_type": "code",
   "execution_count": 41,
   "metadata": {},
   "outputs": [
    {
     "data": {
      "image/png": "[encoded data removed]",
      "text/plain": [
       "<Figure size 432x288 with 1 Axes>"
      ]
     },
     "metadata": {
      "needs_background": "light"
     },
     "output_type": "display_data"
    }
   ],
   "source": [
    "plot_data(X, Y)"
   ]
  },
  {
   "cell_type": "code",
   "execution_count": 44,
   "metadata": {},
   "outputs": [],
   "source": [
    "cls = NeuralNet(normalize = True, learning_rate = 0.001, num_iter = 10001,hidden_layer_sizes = (7,2),notimp_iters=100000,tol=1e-8)"
   ]
  },
  {
   "cell_type": "code",
   "execution_count": 45,
   "metadata": {},
   "outputs": [
    {
     "name": "stdout",
     "output_type": "stream",
     "text": [
      "0-th iteration: 2.7671222473815233\n",
      "1000-th iteration: 2.7671221830538015\n",
      "2000-th iteration: 2.7671218154592157\n",
      "3000-th iteration: 2.7671206412782277\n",
      "4000-th iteration: 2.7671176955672756\n",
      "5000-th iteration: 2.767112159626114\n",
      "6000-th iteration: 2.7671048488173504\n",
      "7000-th iteration: 2.76709760952264\n",
      "8000-th iteration: 2.7670916274127593\n",
      "9000-th iteration: 2.7670871695421675\n",
      "10000-th iteration: 2.767084053989294\n"
     ]
    },
    {
     "data": {
      "image/png": "[encoded data removed]",
      "text/plain": [
       "<Figure size 432x288 with 1 Axes>"
      ]
     },
     "metadata": {
      "needs_background": "light"
     },
     "output_type": "display_data"
    }
   ],
   "source": [
    "cls.fit(X, Y.values.reshape((df.shape[0], 1)))"
   ]
  },
  {
   "cell_type": "code",
   "execution_count": 46,
   "metadata": {},
   "outputs": [
    {
     "name": "stdout",
     "output_type": "stream",
     "text": [
      "{'W_arr': [array([[-0.00645964, -0.00302183],\n",
      "       [ 0.01576564,  0.00572703],\n",
      "       [ 0.01273245, -0.00370175],\n",
      "       [-0.01166324,  0.02599112],\n",
      "       [ 0.01015068,  0.00866696],\n",
      "       [ 0.00431075,  0.00085879],\n",
      "       [ 0.00290117,  0.00158482]]), array([[0.59178914, 0.58068906, 0.59324062, 0.58034566, 0.59664351,\n",
      "        0.60268686, 0.58604493],\n",
      "       [0.58178222, 0.5915909 , 0.58579263, 0.59045182, 0.59238047,\n",
      "        0.59533224, 0.59130293]]), array([[4.52458172, 4.51411159]])], 'b_arr': [array([[0.16497626],\n",
      "       [0.16456092],\n",
      "       [0.16640447],\n",
      "       [0.16418017],\n",
      "       [0.16906727],\n",
      "       [0.17150924],\n",
      "       [0.16595741]]), array([[1.14038039],\n",
      "       [1.13729527]]), array([[5.90059]])]}\n"
     ]
    }
   ],
   "source": [
    "\n",
    "print(cls.parameters)"
   ]
  },
  {
   "cell_type": "code",
   "execution_count": 47,
   "metadata": {},
   "outputs": [
    {
     "data": {
      "text/plain": [
       "array([[0.00999955, 0.99000045],\n",
       "       [0.00999789, 0.99000211],\n",
       "       [0.00999936, 0.99000064],\n",
       "       [0.01000072, 0.98999928],\n",
       "       [0.01000083, 0.98999917],\n",
       "       [0.00999891, 0.99000109],\n",
       "       [0.01000121, 0.98999879],\n",
       "       [0.00999942, 0.99000058],\n",
       "       [0.01000127, 0.98999873],\n",
       "       [0.00999958, 0.99000042],\n",
       "       [0.0099997 , 0.9900003 ],\n",
       "       [0.00999871, 0.99000129],\n",
       "       [0.01000098, 0.98999902],\n",
       "       [0.01000152, 0.98999848],\n",
       "       [0.00999962, 0.99000038],\n",
       "       [0.01000066, 0.98999934],\n",
       "       [0.00999951, 0.99000049],\n",
       "       [0.0099992 , 0.9900008 ],\n",
       "       [0.01000135, 0.98999865],\n",
       "       [0.00999953, 0.99000047],\n",
       "       [0.00999901, 0.99000099],\n",
       "       [0.01000074, 0.98999926],\n",
       "       [0.00999875, 0.99000125],\n",
       "       [0.00999803, 0.99000197],\n",
       "       [0.01000051, 0.98999949],\n",
       "       [0.01000006, 0.98999994],\n",
       "       [0.00999951, 0.99000049],\n",
       "       [0.00999964, 0.99000036],\n",
       "       [0.00999917, 0.99000083],\n",
       "       [0.0099991 , 0.9900009 ],\n",
       "       [0.01000016, 0.98999984],\n",
       "       [0.01000021, 0.98999979],\n",
       "       [0.00999944, 0.99000056],\n",
       "       [0.00999971, 0.99000029],\n",
       "       [0.00999942, 0.99000058],\n",
       "       [0.00999903, 0.99000097],\n",
       "       [0.01000045, 0.98999955],\n",
       "       [0.01000061, 0.98999939],\n",
       "       [0.00999919, 0.99000081],\n",
       "       [0.00999941, 0.99000059],\n",
       "       [0.01000013, 0.98999987],\n",
       "       [0.00999869, 0.99000131],\n",
       "       [0.01000088, 0.98999912],\n",
       "       [0.00999939, 0.99000061],\n",
       "       [0.00999863, 0.99000137],\n",
       "       [0.00999926, 0.99000074],\n",
       "       [0.01000055, 0.98999945],\n",
       "       [0.01000192, 0.98999808],\n",
       "       [0.01000125, 0.98999875],\n",
       "       [0.01000182, 0.98999818],\n",
       "       [0.0100008 , 0.9899992 ],\n",
       "       [0.01000083, 0.98999917],\n",
       "       [0.00999977, 0.99000023],\n",
       "       [0.00999876, 0.99000124],\n",
       "       [0.00999879, 0.99000121],\n",
       "       [0.00999921, 0.99000079],\n",
       "       [0.01000113, 0.98999887],\n",
       "       [0.01000027, 0.98999973],\n",
       "       [0.01000043, 0.98999957],\n",
       "       [0.01000074, 0.98999926],\n",
       "       [0.01000118, 0.98999882],\n",
       "       [0.00999819, 0.99000181],\n",
       "       [0.0099985 , 0.9900015 ],\n",
       "       [0.00999814, 0.99000186],\n",
       "       [0.00999935, 0.99000065],\n",
       "       [0.00999891, 0.99000109],\n",
       "       [0.0100006 , 0.9899994 ],\n",
       "       [0.00999884, 0.99000116],\n",
       "       [0.01000161, 0.98999839],\n",
       "       [0.0099998 , 0.9900002 ],\n",
       "       [0.00999794, 0.99000206],\n",
       "       [0.01000048, 0.98999952],\n",
       "       [0.01000155, 0.98999845],\n",
       "       [0.01000014, 0.98999986],\n",
       "       [0.01000022, 0.98999978],\n",
       "       [0.01000135, 0.98999865],\n",
       "       [0.01000041, 0.98999959],\n",
       "       [0.00999995, 0.99000005],\n",
       "       [0.00999878, 0.99000122],\n",
       "       [0.00999948, 0.99000052],\n",
       "       [0.01000089, 0.98999911],\n",
       "       [0.01000001, 0.98999999],\n",
       "       [0.01000007, 0.98999993],\n",
       "       [0.00999944, 0.99000056],\n",
       "       [0.01000157, 0.98999843],\n",
       "       [0.01000095, 0.98999905],\n",
       "       [0.00999982, 0.99000018],\n",
       "       [0.01000139, 0.98999861],\n",
       "       [0.01000176, 0.98999824],\n",
       "       [0.00999934, 0.99000066],\n",
       "       [0.01000138, 0.98999862],\n",
       "       [0.01000173, 0.98999827],\n",
       "       [0.00999831, 0.99000169],\n",
       "       [0.01000111, 0.98999889],\n",
       "       [0.00999983, 0.99000017],\n",
       "       [0.00999977, 0.99000023],\n",
       "       [0.01000019, 0.98999981],\n",
       "       [0.01000117, 0.98999883],\n",
       "       [0.00999962, 0.99000038],\n",
       "       [0.01000133, 0.98999867]])"
      ]
     },
     "execution_count": 47,
     "metadata": {},
     "output_type": "execute_result"
    }
   ],
   "source": [
    "Y_prob = cls.predict_proba(X)\n",
    "Y_prob"
   ]
  },
  {
   "cell_type": "code",
   "execution_count": 48,
   "metadata": {},
   "outputs": [
    {
     "data": {
      "text/plain": [
       "array([0, 0, 0, 0, 0, 0, 0, 0, 0, 0, 0, 0, 0, 0, 0, 0, 0, 0, 0, 0, 0, 0,\n",
       "       0, 0, 0, 0, 0, 0, 0, 0, 0, 0, 0, 0, 0, 0, 0, 0, 0, 0, 0, 0, 0, 0,\n",
       "       0, 0, 0, 0, 0, 0, 0, 0, 0, 0, 0, 0, 0, 0, 0, 0, 0, 0, 0, 0, 0, 0,\n",
       "       0, 0, 0, 0, 0, 0, 0, 0, 0, 0, 0, 0, 0, 0, 0, 0, 0, 0, 0, 0, 0, 0,\n",
       "       0, 0, 0, 0, 0, 0, 0, 0, 0, 0, 0, 0])"
      ]
     },
     "execution_count": 48,
     "metadata": {},
     "output_type": "execute_result"
    }
   ],
   "source": [
    "Y_hat = cls.predict(X)\n",
    "Y_hat"
   ]
  },
  {
   "cell_type": "code",
   "execution_count": 49,
   "metadata": {},
   "outputs": [
    {
     "data": {
      "text/plain": [
       "0.4"
      ]
     },
     "execution_count": 49,
     "metadata": {},
     "output_type": "execute_result"
    }
   ],
   "source": [
    "accuracy_score(Y, Y_hat)"
   ]
  },
  {
   "cell_type": "code",
   "execution_count": 50,
   "metadata": {},
   "outputs": [
    {
     "name": "stderr",
     "output_type": "stream",
     "text": [
      "<ipython-input-4-1d8d12161a03>:10: UserWarning: No contour levels were found within the data range.\n",
      "  ax.contour(xx1, xx2, Z, levels=[threshold], colors='black')\n"
     ]
    },
    {
     "data": {
      "image/png": "[encoded data removed]",
      "text/plain": [
       "<Figure size 432x288 with 1 Axes>"
      ]
     },
     "metadata": {
      "needs_background": "light"
     },
     "output_type": "display_data"
    }
   ],
   "source": [
    "plot_data(X, Y)\n",
    "plot_surface(cls, X[:, 0], X[:, 1])"
   ]
  },
  {
   "cell_type": "code",
   "execution_count": 51,
   "metadata": {},
   "outputs": [],
   "source": [
    "from sklearn.neural_network import MLPClassifier\n",
    "clf = MLPClassifier(hidden_layer_sizes = (800,), max_iter = 10000, activation = 'tanh', solver = 'sgd', learning_rate_init = 0.0005, learning_rate = 'constant')\n"
   ]
  },
  {
   "cell_type": "code",
   "execution_count": 52,
   "metadata": {},
   "outputs": [
    {
     "data": {
      "text/plain": [
       "MLPClassifier(activation='tanh', hidden_layer_sizes=(800,),\n",
       "              learning_rate_init=0.0005, max_iter=10000, solver='sgd')"
      ]
     },
     "execution_count": 52,
     "metadata": {},
     "output_type": "execute_result"
    }
   ],
   "source": [
    "clf.fit(X, Y)"
   ]
  },
  {
   "cell_type": "code",
   "execution_count": 53,
   "metadata": {},
   "outputs": [
    {
     "data": {
      "image/png": "[encoded data removed]",
      "text/plain": [
       "<Figure size 432x288 with 1 Axes>"
      ]
     },
     "metadata": {
      "needs_background": "light"
     },
     "output_type": "display_data"
    }
   ],
   "source": [
    "plot_data(X, Y)\n",
    "plot_surface(clf, X[:, 0], X[:, 1])"
   ]
  },
  {
   "cell_type": "code",
   "execution_count": 54,
   "metadata": {},
   "outputs": [
    {
     "data": {
      "text/plain": [
       "0.95"
      ]
     },
     "execution_count": 54,
     "metadata": {},
     "output_type": "execute_result"
    }
   ],
   "source": [
    "accuracy_score(Y, clf.predict(X))"
   ]
  },
  {
   "cell_type": "code",
   "execution_count": null,
   "metadata": {},
   "outputs": [],
   "source": []
  },
  {
   "cell_type": "code",
   "execution_count": null,
   "metadata": {},
   "outputs": [],
   "source": []
  }
 ],
 "metadata": {
  "anaconda-cloud": {},
  "kernelspec": {
   "display_name": "Python 3",
   "language": "python",
   "name": "python3"
  },
  "language_info": {
   "codemirror_mode": {
    "name": "ipython",
    "version": 3
   },
   "file_extension": ".py",
   "mimetype": "text/x-python",
   "name": "python",
   "nbconvert_exporter": "python",
   "pygments_lexer": "ipython3",
   "version": "3.8.5"
  }
 },
 "nbformat": 4,
 "nbformat_minor": 1
}
